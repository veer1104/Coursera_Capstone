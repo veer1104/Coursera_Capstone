{
 "cells": [
  {
   "cell_type": "markdown",
   "metadata": {},
   "source": [
    "## Introduction and Business problem"
   ]
  },
  {
   "cell_type": "markdown",
   "metadata": {},
   "source": [
    "<b> Business Problem: </b> Evaluating the potential success of opening an Indian restaurant in Toronto, Canada \n",
    "\n",
    "Toronto is one of the most populous Canadian cities and is home to a large number of immigrants. As a result of this, it has diverse neighborhoods such as Greektown, Koreatown, Little Italy, and Little India. More than half of Indian immigrants in Canada reside in Toronto, and therefore there is a great demand for Indian food. \n",
    "Due to the this, starting an Indian restaurant can potentially be a great idea given that it will be profitable to the owner. Through the course of this capstone project, we will evaluate the business idea of opening an Indian restaurant. Through geospatial data analysis, we can analyze the neighborhoods in Toronto by looking at current data about the success of restaurants.\n"
   ]
  },
  {
   "cell_type": "markdown",
   "metadata": {},
   "source": [
    "<b> This project is beneficial to a range of target audiences: </b>"
   ]
  },
  {
   "cell_type": "markdown",
   "metadata": {},
   "source": [
    "<b> 1) Business owners who are thinking of opening a restaurant: </b>\n",
    "<br>\n",
    "This can be a detailed reference for anyone wishing the open an Indian restaurant and can help in decision making related to neighborhoods, ambience, and other geographical factors."
   ]
  },
  {
   "cell_type": "markdown",
   "metadata": {},
   "source": [
    "<b> 2) Data scientists and Business analysts: </b>\n",
    "<br>\n",
    "The variety of stages such as data cleaning, exploratory data analysis, and machine learning undertaken in this project can help other Data scientists who want to analyze the neighborhoods of Toronto. By using the conclusions and insights yielded in this project, the operations can be extended, and further analysis can also be performed. "
   ]
  },
  {
   "cell_type": "markdown",
   "metadata": {},
   "source": [
    "<b> 3) Indian residents of Toronto: </b>\n",
    "<br>\n",
    "Since the report focuses on Indian restaurants, the conclusion from this report can help Indians looking for eatery options in Toronto.  "
   ]
  },
  {
   "cell_type": "markdown",
   "metadata": {},
   "source": [
    "## Data Sources"
   ]
  },
  {
   "cell_type": "markdown",
   "metadata": {},
   "source": [
    "<b> 1)\tInformation on Toronto’s neighborhoods (Postal code, borough, name of neighborhood) </b>\n",
    "<br>\n",
    "https://en.wikipedia.org/w/index.php?title=List_of_postal_codes_of_Canada:_M&oldid=1012118802\n",
    "\n",
    "<b> 2)\tGeographical coordinates of neighborhoods </b>\n",
    "<br>\n",
    "https://cocl.us/Geospatial_data%E2%80%9D\n",
    "\n",
    "<b> 3)\tFoursquare API - Information about venues in Toronto </b>\n",
    "<br>\n",
    "Collecting the name, category, latitude, and longitude to see existing venues present \n",
    "<br>\n",
    "https://developer.foursquare.com/docs/\n",
    "\n",
    "<b> 4)\tDemographics of Toronto’s neighborhoods by ethnicity </b>\n",
    "<br>\n",
    "This dataset will give an insight into the distribution of Indians in Toronto and help identify neighborhoods where opening an Indian restaurant can attract most customers\n",
    "<br>\n",
    "https://en.m.wikipedia.org/wiki/Demographics_of_Toronto#Ethnic_diversity"
   ]
  },
  {
   "cell_type": "code",
   "execution_count": null,
   "metadata": {},
   "outputs": [],
   "source": []
  }
 ],
 "metadata": {
  "hide_input": false,
  "kernelspec": {
   "display_name": "Python 3",
   "language": "python",
   "name": "python3"
  },
  "language_info": {
   "codemirror_mode": {
    "name": "ipython",
    "version": 3
   },
   "file_extension": ".py",
   "mimetype": "text/x-python",
   "name": "python",
   "nbconvert_exporter": "python",
   "pygments_lexer": "ipython3",
   "version": "3.8.3"
  }
 },
 "nbformat": 4,
 "nbformat_minor": 2
}
